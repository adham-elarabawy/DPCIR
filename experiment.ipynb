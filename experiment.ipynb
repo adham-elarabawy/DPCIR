{
 "cells": [
  {
   "cell_type": "code",
   "execution_count": 2,
   "metadata": {},
   "outputs": [],
   "source": [
    "from utils import utils_image as util\n",
    "import numpy as np"
   ]
  },
  {
   "cell_type": "code",
   "execution_count": 3,
   "metadata": {},
   "outputs": [
    {
     "name": "stdout",
     "output_type": "stream",
     "text": [
      "(256, 256, 3)\n"
     ]
    }
   ],
   "source": [
    "img_H = util.imread_uint('testsets/regular/01.png', n_channels=3)\n",
    "print(img_H.shape)"
   ]
  },
  {
   "cell_type": "code",
   "execution_count": 11,
   "metadata": {},
   "outputs": [
    {
     "name": "stdout",
     "output_type": "stream",
     "text": [
      "(256, 256, 2)\n"
     ]
    }
   ],
   "source": [
    "channel_0 = np.zeros((256,256,1))\n",
    "channel_1 = np.zeros((256,256,1))\n",
    "channel_1.fill(255)\n",
    "two_channel_img = np.concatenate((channel_0, channel_1), axis=2)\n",
    "print(two_channel_img.shape)\n",
    "# print(two_channel_img)"
   ]
  },
  {
   "cell_type": "code",
   "execution_count": 15,
   "metadata": {},
   "outputs": [],
   "source": [
    "filepath = \"testsets/experiment/test_2_channel.tif\"\n",
    "with open(filepath, 'wb') as f:\n",
    "    np.save(f, two_channel_img, allow_pickle=True)"
   ]
  },
  {
   "cell_type": "code",
   "execution_count": null,
   "metadata": {},
   "outputs": [],
   "source": []
  }
 ],
 "metadata": {
  "kernelspec": {
   "display_name": "mri",
   "language": "python",
   "name": "mri"
  },
  "language_info": {
   "codemirror_mode": {
    "name": "ipython",
    "version": 3
   },
   "file_extension": ".py",
   "mimetype": "text/x-python",
   "name": "python",
   "nbconvert_exporter": "python",
   "pygments_lexer": "ipython3",
   "version": "3.8.5"
  }
 },
 "nbformat": 4,
 "nbformat_minor": 4
}
